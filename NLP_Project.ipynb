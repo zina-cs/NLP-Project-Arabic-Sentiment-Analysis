{
 "cells": [
  {
   "cell_type": "markdown",
   "id": "19fd26c3",
   "metadata": {},
   "source": [
    "# Imports"
   ]
  },
  {
   "cell_type": "code",
   "execution_count": 164,
   "id": "703f624b",
   "metadata": {},
   "outputs": [
    {
     "name": "stdout",
     "output_type": "stream",
     "text": [
      "Requirement already satisfied: emojis in c:\\users\\z\\anaconda3\\lib\\site-packages (0.7.0)\n",
      "Note: you may need to restart the kernel to use updated packages.\n"
     ]
    },
    {
     "name": "stderr",
     "output_type": "stream",
     "text": [
      "WARNING: Ignoring invalid distribution -rotobuf (c:\\users\\z\\anaconda3\\lib\\site-packages)\n",
      "WARNING: Ignoring invalid distribution -rotobuf (c:\\users\\z\\anaconda3\\lib\\site-packages)\n",
      "WARNING: Ignoring invalid distribution -rotobuf (c:\\users\\z\\anaconda3\\lib\\site-packages)\n",
      "WARNING: Ignoring invalid distribution -rotobuf (c:\\users\\z\\anaconda3\\lib\\site-packages)\n",
      "WARNING: Ignoring invalid distribution -rotobuf (c:\\users\\z\\anaconda3\\lib\\site-packages)\n",
      "WARNING: Ignoring invalid distribution -rotobuf (c:\\users\\z\\anaconda3\\lib\\site-packages)\n"
     ]
    },
    {
     "name": "stdout",
     "output_type": "stream",
     "text": [
      "Note: you may need to restart the kernel to use updated packages.Requirement already satisfied: pyarabic in c:\\users\\z\\anaconda3\\lib\\site-packages (0.6.15)\n",
      "Requirement already satisfied: six>=1.14.0 in c:\\users\\z\\anaconda3\\lib\\site-packages (from pyarabic) (1.16.0)\n",
      "\n"
     ]
    },
    {
     "name": "stderr",
     "output_type": "stream",
     "text": [
      "WARNING: Ignoring invalid distribution -rotobuf (c:\\users\\z\\anaconda3\\lib\\site-packages)\n",
      "WARNING: Ignoring invalid distribution -rotobuf (c:\\users\\z\\anaconda3\\lib\\site-packages)\n",
      "WARNING: Ignoring invalid distribution -rotobuf (c:\\users\\z\\anaconda3\\lib\\site-packages)\n",
      "WARNING: Ignoring invalid distribution -rotobuf (c:\\users\\z\\anaconda3\\lib\\site-packages)\n",
      "WARNING: Ignoring invalid distribution -rotobuf (c:\\users\\z\\anaconda3\\lib\\site-packages)\n",
      "WARNING: Ignoring invalid distribution -rotobuf (c:\\users\\z\\anaconda3\\lib\\site-packages)\n"
     ]
    }
   ],
   "source": [
    "%pip install emojis\n",
    "%pip install pyarabic"
   ]
  },
  {
   "cell_type": "code",
   "execution_count": 165,
   "id": "1a3a01bc",
   "metadata": {},
   "outputs": [],
   "source": [
    "import numpy as np\n",
    "import tensorflow as tf\n",
    "from tensorflow import keras\n",
    "from sklearn.model_selection import train_test_split, train_test_split\n",
    "from tensorflow.keras.preprocessing.text import Tokenizer\n",
    "import pandas as pd\n",
    "from tensorflow.keras.callbacks import *\n",
    "from tensorflow.keras.layers import *\n",
    "from tensorflow.keras.metrics import *\n",
    "from tensorflow.keras.models import *\n",
    "from tensorflow.keras.optimizers import *\n",
    "from tensorflow.keras.preprocessing.sequence import pad_sequences\n",
    "from tensorflow.keras.utils import to_categorical\n",
    "from tensorflow.keras.regularizers import *"
   ]
  },
  {
   "cell_type": "markdown",
   "id": "91b59ef5",
   "metadata": {},
   "source": [
    "# Preprocessing"
   ]
  },
  {
   "cell_type": "code",
   "execution_count": 166,
   "id": "a43819be",
   "metadata": {},
   "outputs": [],
   "source": [
    "dframe = pd.read_csv('C:/Users/Z/Downloads/ar_suicide2.csv')\n",
    "trainTweets = dframe.iloc[:, 0]\n",
    "classes = dframe.iloc[:, 1]\n",
    "classes = ['Depression' if cls == 1 else 'Normal' for cls in classes]"
   ]
  },
  {
   "cell_type": "code",
   "execution_count": 167,
   "id": "2346dc48",
   "metadata": {},
   "outputs": [],
   "source": [
    "from nltk.corpus import stopwords\n",
    "import emojis\n",
    "\n",
    "def remove_stop_words(text): \n",
    "    stop_words = set(stopwords.words(\"arabic\"))\n",
    "    output = []\n",
    "    for x in text:\n",
    "        br = x.split() #returns list of words split by the default separator whitespace (\" \")\n",
    "        output.append(\" \".join([word for word in br if word not in stop_words])) #any word not in stopwords is added to tweet\n",
    "    return output\n",
    "\n",
    "import re\n",
    "\n",
    "def remove_emojis(text):\n",
    "    emoji_pattern = re.compile(\"[\" #creates re.Pattern object\n",
    "        u\"\\U0001F600-\\U0001F64F\"  # emoticons\n",
    "        u\"\\U0001F300-\\U0001F5FF\"  # symbols & pictographs\n",
    "        u\"\\U0001F680-\\U0001F6FF\"  # transport & map symbols\n",
    "        u\"\\U0001F1E0-\\U0001F1FF\"  # flags (iOS)\n",
    "                           \"]+\", flags=re.UNICODE)\n",
    "    words = []\n",
    "    for word in text:\n",
    "        words.append(emoji_pattern.sub(r'', word)) #substitutes any of the unicodes with ''\n",
    "    return words\n",
    "\n",
    "\n",
    "def remove_punctuation(text):\n",
    "    words = []\n",
    "    for word in text:\n",
    "        words.append(re.sub(r'[^\\w\\s]','',word))\n",
    "    return words\n",
    "\n",
    "\n",
    "# in Arabic syllabels are represented by small signs above or below \n",
    "# each character, we will remove them \n",
    "# and see if they affect our prediction model\n",
    "import pyarabic.araby as araby\n",
    "\n",
    "def remove_diactrics(text): #also known as harakat\n",
    "    words = []\n",
    "    for word in text:\n",
    "        words.append(araby.strip_diacritics(word))\n",
    "    return words\n",
    "\n"
   ]
  },
  {
   "cell_type": "markdown",
   "id": "49359632",
   "metadata": {},
   "source": [
    "# Normalization"
   ]
  },
  {
   "cell_type": "code",
   "execution_count": 168,
   "id": "7717a110",
   "metadata": {},
   "outputs": [],
   "source": [
    "from nltk.stem.isri import ISRIStemmer\n",
    "stemmer = ISRIStemmer()\n",
    "\n",
    "def stem(text):\n",
    "    stemmed = []\n",
    "    for word in text:\n",
    "        stemmed.append(stemmer.stem(word))\n",
    "    return stemmed\n",
    "\n",
    "def stem_untokenized(text):\n",
    "    return stemmer.stem(text)"
   ]
  },
  {
   "cell_type": "code",
   "execution_count": 169,
   "id": "0b8eb34a",
   "metadata": {},
   "outputs": [],
   "source": [
    "def GetPaddedSequences(tokenizer, data, maxLength=50, truncating='post', padding='post'):\n",
    "    #\"pre\" means start from the beginning,\"post\" means start from the ending\n",
    "  sequences = tokenizer.texts_to_sequences(data)\n",
    "  padded = pad_sequences( \n",
    "    sequences,\n",
    "    truncating=truncating, #truncating will tell us how to handle sequences that are more than the max length.\n",
    "    padding=padding, #padding will help us pad the sequences that are smaller than the matrix\n",
    "    maxlen=maxLength\n",
    "  )\n",
    "    #pad_Sequences will help us make all the sequences of the same length, + so no information is lost in the CNN.\n",
    "  return padded"
   ]
  },
  {
   "cell_type": "code",
   "execution_count": 170,
   "id": "56a2de6b",
   "metadata": {},
   "outputs": [],
   "source": [
    "trainTweets = remove_stop_words(trainTweets)\n",
    "trainTweets = remove_emojis(trainTweets)\n",
    "trainTweets = remove_punctuation(trainTweets)\n",
    "trainTweets = remove_diactrics(trainTweets)\n",
    "trainTweets = np.array(trainTweets)\n",
    "trainLabels = classes\n",
    "stemmed_train = stem(trainTweets)\n"
   ]
  },
  {
   "cell_type": "code",
   "execution_count": 171,
   "id": "a25a06c5",
   "metadata": {},
   "outputs": [],
   "source": [
    "testdf = pd.read_csv(\"C:/Users/Z/Downloads/datasetnlp.csv\", encoding=\"latin-1\")\n",
    "testTweets = testdf.iloc[:, 0]\n",
    "classes = testdf.iloc[:, 1]\n",
    "classes = ['Depression' if cls == 1 else 'Normal' for cls in classes]\n",
    "\n",
    "testTweets = remove_stop_words(testTweets)\n",
    "testTweets = remove_emojis(testTweets)\n",
    "testTweets = remove_punctuation(testTweets)\n",
    "testTweets = remove_diactrics(testTweets)\n",
    "testTweets = np.array(testTweets)\n",
    "testLabels = classes\n",
    "stemmed_test = stem(testTweets)\n"
   ]
  },
  {
   "cell_type": "code",
   "execution_count": 172,
   "id": "748fec19",
   "metadata": {},
   "outputs": [],
   "source": [
    "trainSize = 0.85\n",
    "maxLength = 100\n",
    "noOfWords = 2500\n",
    "epochs = 2\n",
    "batchSize = 32\n",
    "trainSize = 0.85\n",
    "embedSize = 300\n",
    "overwrite = False\n"
   ]
  },
  {
   "cell_type": "code",
   "execution_count": 173,
   "id": "a8762420",
   "metadata": {},
   "outputs": [
    {
     "name": "stdout",
     "output_type": "stream",
     "text": [
      "(3087, 100)\n",
      "(46999, 100)\n",
      "(3087, 2)\n",
      "(46999, 2)\n"
     ]
    }
   ],
   "source": [
    "tokenizer = Tokenizer(num_words=noOfWords, oov_token='<UNK>') #\n",
    "\n",
    "tokenizer.fit_on_texts(stemmed_train)\n",
    "trainPaddedSequences = GetPaddedSequences(tokenizer, stemmed_train, maxLength=maxLength)\n",
    "\n",
    "\n",
    "tokenizer.fit_on_texts(stemmed_test)\n",
    "testPaddedSequences = GetPaddedSequences(tokenizer, stemmed_test, maxLength=maxLength)\n",
    "\n",
    "print(trainPaddedSequences.shape)\n",
    "print(testPaddedSequences.shape)\n",
    "\n",
    "uniqueClasses = set(classes)\n",
    "noOfClasses = len(uniqueClasses)\n",
    "class2index = dict((c, i) for i, c in enumerate(uniqueClasses))\n",
    "index2class = dict((v, k) for k, v in class2index.items())\n",
    "\n",
    "names2ids = lambda labels: np.array([class2index.get(x) for x in trainLabels])\n",
    "trainLabelsIDs = names2ids(trainLabels)\n",
    "trainLabelsCat = to_categorical(trainLabelsIDs, num_classes=noOfClasses)\n",
    "\n",
    "names2ids = lambda labels: np.array([class2index.get(x) for x in testLabels])\n",
    "testLabelsIDs = names2ids(testLabels)\n",
    "testLabelsCat = to_categorical(testLabelsIDs, num_classes=noOfClasses)\n",
    "\n",
    "print(trainLabelsCat.shape)\n",
    "print(testLabelsCat.shape)"
   ]
  },
  {
   "cell_type": "code",
   "execution_count": 197,
   "id": "30dce897",
   "metadata": {},
   "outputs": [],
   "source": [
    "def ModelCNN1(): \n",
    "  tf.keras.backend.clear_session()\n",
    "\n",
    "  model = Sequential( # initialize instance of a sequential model\n",
    "    [\n",
    "      Embedding(noOfWords, 128, input_length=maxLength),\n",
    "      Conv1D(32, 5, activation='relu'),\n",
    "      MaxPooling1D(),\n",
    "      Conv1D(64, 5, activation='relu'),\n",
    "      MaxPooling1D(),\n",
    "      Conv1D(128, 5, activation='relu'),\n",
    "      MaxPooling1D(),\n",
    "      Flatten(),\n",
    "      Dense(32, activation='relu'),\n",
    "      Dropout(0.5),\n",
    "      Dense(64, activation='relu'),\n",
    "      Dropout(0.5),\n",
    "      Dense(2, activation='softmax'), \n",
    "    ]\n",
    "  )\n",
    "    \n",
    "  model.compile(\n",
    "    loss='categorical_crossentropy',\n",
    "    optimizer=Adam(),\n",
    "    metrics = [\n",
    "    'accuracy',\n",
    "    TruePositives(name=\"TP\"),\n",
    "    TrueNegatives(name=\"TN\"),\n",
    "    FalsePositives(name=\"FP\"),\n",
    "    FalseNegatives(name=\"FN\"),\n",
    "  ],\n",
    "  )\n",
    "  model.summary()\n",
    "\n",
    "  history = model.fit(\n",
    "    trainPaddedSequences, trainLabelsCat,\n",
    "    validation_data=(testPaddedSequences, testLabelsCat),\n",
    "    epochs=epochs,\n",
    "    batch_size=batchSize,\n",
    "    callbacks=[\n",
    "      EarlyStopping(monitor='val_accuracy', patience=25), #patience is the number of epoches allowed for the monitored metric, every epoch, the metric is checked to  see if it has improved if not , it will stop early and take another specified action. \n",
    "      ModelCheckpoint(\"model.hdf5\", monitor='val_loss'), #incase the validation metric does improve and there is less loss, the modelcheckpoint will save the weights of the model into the file, in this model.hdf5. this helps keep track of best weights and improvements.\n",
    "    ] #these callbacks will help stop the training early if the model validation does not improve which will solve computational resources and prevent overfitting.\n",
    "  )\n",
    " \n",
    "  return model, history"
   ]
  },
  {
   "cell_type": "code",
   "execution_count": 199,
   "id": "02728471",
   "metadata": {},
   "outputs": [
    {
     "name": "stdout",
     "output_type": "stream",
     "text": [
      "Model: \"sequential\"\n",
      "_________________________________________________________________\n",
      " Layer (type)                Output Shape              Param #   \n",
      "=================================================================\n",
      " embedding (Embedding)       (None, 100, 128)          320000    \n",
      "                                                                 \n",
      " conv1d (Conv1D)             (None, 96, 32)            20512     \n",
      "                                                                 \n",
      " max_pooling1d (MaxPooling1D  (None, 48, 32)           0         \n",
      " )                                                               \n",
      "                                                                 \n",
      " conv1d_1 (Conv1D)           (None, 44, 64)            10304     \n",
      "                                                                 \n",
      " max_pooling1d_1 (MaxPooling  (None, 22, 64)           0         \n",
      " 1D)                                                             \n",
      "                                                                 \n",
      " conv1d_2 (Conv1D)           (None, 18, 128)           41088     \n",
      "                                                                 \n",
      " max_pooling1d_2 (MaxPooling  (None, 9, 128)           0         \n",
      " 1D)                                                             \n",
      "                                                                 \n",
      " flatten (Flatten)           (None, 1152)              0         \n",
      "                                                                 \n",
      " dense (Dense)               (None, 32)                36896     \n",
      "                                                                 \n",
      " dropout (Dropout)           (None, 32)                0         \n",
      "                                                                 \n",
      " dense_1 (Dense)             (None, 64)                2112      \n",
      "                                                                 \n",
      " dropout_1 (Dropout)         (None, 64)                0         \n",
      "                                                                 \n",
      " dense_2 (Dense)             (None, 2)                 130       \n",
      "                                                                 \n",
      "=================================================================\n",
      "Total params: 431,042\n",
      "Trainable params: 431,042\n",
      "Non-trainable params: 0\n",
      "_________________________________________________________________\n",
      "Epoch 1/2\n",
      "97/97 [==============================] - 25s 230ms/step - loss: 0.6909 - accuracy: 0.5270 - TP: 1627.0000 - TN: 1627.0000 - FP: 1460.0000 - FN: 1460.0000 - val_loss: 0.6931 - val_accuracy: 0.5062 - val_TP: 23792.0000 - val_TN: 23792.0000 - val_FP: 23207.0000 - val_FN: 23207.0000\n",
      "Epoch 2/2\n",
      "97/97 [==============================] - 19s 198ms/step - loss: 0.5466 - accuracy: 0.7477 - TP: 2308.0000 - TN: 2308.0000 - FP: 779.0000 - FN: 779.0000 - val_loss: 0.7213 - val_accuracy: 0.5069 - val_TP: 23824.0000 - val_TN: 23824.0000 - val_FP: 23175.0000 - val_FN: 23175.0000\n"
     ]
    }
   ],
   "source": [
    "model, history = ModelCNN1()"
   ]
  },
  {
   "cell_type": "code",
   "execution_count": 195,
   "id": "820413ab",
   "metadata": {},
   "outputs": [],
   "source": [
    "import tensorflow_docs as tfdocs\n",
    "def ModelLSTM1():\n",
    "  model = Sequential()\n",
    "  model.add(Embedding(noOfWords, 128, input_length=maxLength)),\n",
    "  model.add(Conv1D(32, 5, activation='relu')),\n",
    "  model.add(MaxPooling1D()),\n",
    "  model.add(LSTM(32))\n",
    "  model.add(Dropout(0.4))\n",
    "  model.add(Dense(2,activation='softmax'))\n",
    "  \n",
    "  metrics = [\n",
    "    'accuracy',\n",
    "    TruePositives(name=\"TP\"),\n",
    "    TrueNegatives(name=\"TN\"),\n",
    "    FalsePositives(name=\"FP\"),\n",
    "    FalseNegatives(name=\"FN\"),\n",
    "  ]\n",
    "\n",
    "  model.compile(\n",
    "    loss='binary_crossentropy',\n",
    "    optimizer=Adam(learning_rate=0.00001),\n",
    "    metrics=metrics,\n",
    "  )\n",
    "  model.summary()\n",
    "\n",
    "  history = model.fit(\n",
    "     trainPaddedSequences, trainLabelsCat,\n",
    "    validation_data = (testPaddedSequences, testLabelsCat),\n",
    "    epochs=2,\n",
    "    batch_size=batchSize,\n",
    "  )\n",
    "    \n",
    "  return model, history"
   ]
  },
  {
   "cell_type": "code",
   "execution_count": 196,
   "id": "b1272950",
   "metadata": {},
   "outputs": [
    {
     "name": "stdout",
     "output_type": "stream",
     "text": [
      "Model: \"sequential_3\"\n",
      "_________________________________________________________________\n",
      " Layer (type)                Output Shape              Param #   \n",
      "=================================================================\n",
      " embedding_3 (Embedding)     (None, 100, 128)          320000    \n",
      "                                                                 \n",
      " conv1d_5 (Conv1D)           (None, 96, 32)            20512     \n",
      "                                                                 \n",
      " max_pooling1d_5 (MaxPooling  (None, 48, 32)           0         \n",
      " 1D)                                                             \n",
      "                                                                 \n",
      " lstm_2 (LSTM)               (None, 32)                8320      \n",
      "                                                                 \n",
      " dropout_4 (Dropout)         (None, 32)                0         \n",
      "                                                                 \n",
      " dense_5 (Dense)             (None, 2)                 66        \n",
      "                                                                 \n",
      "=================================================================\n",
      "Total params: 348,898\n",
      "Trainable params: 348,898\n",
      "Non-trainable params: 0\n",
      "_________________________________________________________________\n",
      "Epoch 1/2\n",
      "97/97 [==============================] - 49s 452ms/step - loss: 0.6931 - accuracy: 0.5070 - TP: 1565.0000 - TN: 1565.0000 - FP: 1522.0000 - FN: 1522.0000 - val_loss: 0.6931 - val_accuracy: 0.5081 - val_TP: 23878.0000 - val_TN: 23878.0000 - val_FP: 23121.0000 - val_FN: 23121.0000\n",
      "Epoch 2/2\n",
      "97/97 [==============================] - 30s 314ms/step - loss: 0.6930 - accuracy: 0.5040 - TP: 1556.0000 - TN: 1556.0000 - FP: 1531.0000 - FN: 1531.0000 - val_loss: 0.6931 - val_accuracy: 0.5081 - val_TP: 23878.0000 - val_TN: 23878.0000 - val_FP: 23121.0000 - val_FN: 23121.0000\n"
     ]
    },
    {
     "data": {
      "image/png": "[encoded data removed]",
      "text/plain": [
       "<IPython.core.display.Image object>"
      ]
     },
     "execution_count": 196,
     "metadata": {},
     "output_type": "execute_result"
    }
   ],
   "source": [
    "model, history = ModelLSTM1()\n",
    "from keras.utils.vis_utils import plot_model\n",
    "plot_model(model, to_file='model.png', show_shapes=True)\n"
   ]
  },
  {
   "cell_type": "code",
   "execution_count": null,
   "id": "abb57e33",
   "metadata": {},
   "outputs": [],
   "source": []
  },
  {
   "cell_type": "code",
   "execution_count": null,
   "id": "1d8cd357",
   "metadata": {},
   "outputs": [],
   "source": []
  },
  {
   "cell_type": "code",
   "execution_count": null,
   "id": "a804eef0",
   "metadata": {},
   "outputs": [],
   "source": []
  }
 ],
 "metadata": {
  "kernelspec": {
   "display_name": "Python 3 (ipykernel)",
   "language": "python",
   "name": "python3"
  },
  "language_info": {
   "codemirror_mode": {
    "name": "ipython",
    "version": 3
   },
   "file_extension": ".py",
   "mimetype": "text/x-python",
   "name": "python",
   "nbconvert_exporter": "python",
   "pygments_lexer": "ipython3",
   "version": "3.10.9"
  }
 },
 "nbformat": 4,
 "nbformat_minor": 5
}
